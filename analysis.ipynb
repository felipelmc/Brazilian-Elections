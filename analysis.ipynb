{
 "cells": [
  {
   "cell_type": "code",
   "execution_count": 1,
   "metadata": {},
   "outputs": [],
   "source": [
    "import basedosdados as bd\n",
    "import pandas as pd\n",
    "import geopandas as gpd\n",
    "import matplotlib.pyplot as plt"
   ]
  },
  {
   "cell_type": "markdown",
   "metadata": {},
   "source": [
    "## Importing the Dataset from Base dos Dados"
   ]
  },
  {
   "cell_type": "code",
   "execution_count": 3,
   "metadata": {},
   "outputs": [
    {
     "name": "stderr",
     "output_type": "stream",
     "text": [
      "Downloading: 100%|██████████| 967219/967219 [00:25<00:00, 37259.67rows/s]\n"
     ]
    }
   ],
   "source": [
    "# the results of municipal elections\n",
    "\n",
    "query = \"\"\"\n",
    "SELECT id_municipio, sigla_uf, cargo, sigla_partido, resultado, votos, ano\n",
    "FROM basedosdados.br_tse_eleicoes.resultados_candidato\n",
    "WHERE ano in (2020, 2016)\n",
    "\"\"\"\n",
    "\n",
    "results_municipal = bd.read_sql(query, \n",
    "                                billing_project_id=\"analise-eleitoral-330723\")"
   ]
  },
  {
   "cell_type": "code",
   "execution_count": 4,
   "metadata": {},
   "outputs": [
    {
     "data": {
      "text/html": [
       "<div>\n",
       "<style scoped>\n",
       "    .dataframe tbody tr th:only-of-type {\n",
       "        vertical-align: middle;\n",
       "    }\n",
       "\n",
       "    .dataframe tbody tr th {\n",
       "        vertical-align: top;\n",
       "    }\n",
       "\n",
       "    .dataframe thead th {\n",
       "        text-align: right;\n",
       "    }\n",
       "</style>\n",
       "<table border=\"1\" class=\"dataframe\">\n",
       "  <thead>\n",
       "    <tr style=\"text-align: right;\">\n",
       "      <th></th>\n",
       "      <th>id_candidato_bd</th>\n",
       "    </tr>\n",
       "  </thead>\n",
       "  <tbody>\n",
       "    <tr>\n",
       "      <th>0</th>\n",
       "      <td>1302885</td>\n",
       "    </tr>\n",
       "    <tr>\n",
       "      <th>1</th>\n",
       "      <td>649297</td>\n",
       "    </tr>\n",
       "    <tr>\n",
       "      <th>2</th>\n",
       "      <td>1702813</td>\n",
       "    </tr>\n",
       "    <tr>\n",
       "      <th>3</th>\n",
       "      <td>1698446</td>\n",
       "    </tr>\n",
       "    <tr>\n",
       "      <th>4</th>\n",
       "      <td>1382883</td>\n",
       "    </tr>\n",
       "    <tr>\n",
       "      <th>5</th>\n",
       "      <td>928976</td>\n",
       "    </tr>\n",
       "    <tr>\n",
       "      <th>6</th>\n",
       "      <td>1040731</td>\n",
       "    </tr>\n",
       "    <tr>\n",
       "      <th>7</th>\n",
       "      <td>1224019</td>\n",
       "    </tr>\n",
       "    <tr>\n",
       "      <th>8</th>\n",
       "      <td>1277680</td>\n",
       "    </tr>\n",
       "    <tr>\n",
       "      <th>9</th>\n",
       "      <td>1164189</td>\n",
       "    </tr>\n",
       "  </tbody>\n",
       "</table>\n",
       "</div>"
      ],
      "text/plain": [
       "  id_candidato_bd\n",
       "0         1302885\n",
       "1          649297\n",
       "2         1702813\n",
       "3         1698446\n",
       "4         1382883\n",
       "5          928976\n",
       "6         1040731\n",
       "7         1224019\n",
       "8         1277680\n",
       "9         1164189"
      ]
     },
     "execution_count": 4,
     "metadata": {},
     "output_type": "execute_result"
    }
   ],
   "source": [
    "results_municipal.head(10)"
   ]
  },
  {
   "cell_type": "code",
   "execution_count": null,
   "metadata": {},
   "outputs": [],
   "source": [
    "# the results of municipal elections\n",
    "\n",
    "query = \"\"\"\n",
    "SELECT id_municipio, sigla_uf, cargo, sigla_partido, resultado, votos, ano\n",
    "FROM basedosdados.br_tse_eleicoes.resultados_candidato\n",
    "WHERE ano in (2018, 2014)\n",
    "\"\"\"\n",
    "\n",
    "results_federal = bd.read_sql(query, \n",
    "                         billing_project_id=\"analise-eleitoral-330723\")"
   ]
  },
  {
   "cell_type": "code",
   "execution_count": null,
   "metadata": {},
   "outputs": [],
   "source": [
    "results_federal.head(10)"
   ]
  },
  {
   "cell_type": "code",
   "execution_count": null,
   "metadata": {},
   "outputs": [],
   "source": [
    "# merging data about election results and general information about candidates "
   ]
  },
  {
   "cell_type": "code",
   "execution_count": 2,
   "metadata": {},
   "outputs": [
    {
     "name": "stderr",
     "output_type": "stream",
     "text": [
      "Downloading: 100%|██████████| 1985087/1985087 [03:55<00:00, 8439.54rows/s]\n"
     ]
    }
   ],
   "source": [
    "# teste\n",
    "\n",
    "query = \"\"\"\n",
    "SELECT c.ano, c.sigla_uf, c.id_municipio, c.cpf, id_candidato_bd, c.sigla_partido, c.cargo, r.resultado, c.idade, c.genero, c.instrucao, c.raca\n",
    "FROM basedosdados.br_tse_eleicoes.candidatos as c\n",
    "INNER JOIN basedosdados.br_tse_eleicoes.resultados_candidato as r \n",
    "USING (id_candidato_bd)\n",
    "WHERE c.ano in (2016, 2020)\n",
    "\"\"\"\n",
    "\n",
    "municipal = bd.read_sql(query, \n",
    "                        billing_project_id=\"analise-eleitoral-330723\")\n"
   ]
  },
  {
   "cell_type": "code",
   "execution_count": 6,
   "metadata": {},
   "outputs": [
    {
     "data": {
      "text/html": [
       "<div>\n",
       "<style scoped>\n",
       "    .dataframe tbody tr th:only-of-type {\n",
       "        vertical-align: middle;\n",
       "    }\n",
       "\n",
       "    .dataframe tbody tr th {\n",
       "        vertical-align: top;\n",
       "    }\n",
       "\n",
       "    .dataframe thead th {\n",
       "        text-align: right;\n",
       "    }\n",
       "</style>\n",
       "<table border=\"1\" class=\"dataframe\">\n",
       "  <thead>\n",
       "    <tr style=\"text-align: right;\">\n",
       "      <th></th>\n",
       "      <th>ano</th>\n",
       "      <th>sigla_uf</th>\n",
       "      <th>id_municipio</th>\n",
       "      <th>cpf</th>\n",
       "      <th>id_candidato_bd</th>\n",
       "      <th>sigla_partido</th>\n",
       "      <th>cargo</th>\n",
       "      <th>resultado</th>\n",
       "      <th>idade</th>\n",
       "      <th>genero</th>\n",
       "      <th>instrucao</th>\n",
       "      <th>raca</th>\n",
       "    </tr>\n",
       "  </thead>\n",
       "  <tbody>\n",
       "    <tr>\n",
       "      <th>0</th>\n",
       "      <td>2016</td>\n",
       "      <td>AP</td>\n",
       "      <td>1600204</td>\n",
       "      <td>00004747208</td>\n",
       "      <td>309</td>\n",
       "      <td>PRP</td>\n",
       "      <td>vereador</td>\n",
       "      <td>suplente</td>\n",
       "      <td>40.0</td>\n",
       "      <td>masculino</td>\n",
       "      <td>ensino fundamental incompleto</td>\n",
       "      <td>branca</td>\n",
       "    </tr>\n",
       "    <tr>\n",
       "      <th>2</th>\n",
       "      <td>2016</td>\n",
       "      <td>AP</td>\n",
       "      <td>1600303</td>\n",
       "      <td>00014428210</td>\n",
       "      <td>1051</td>\n",
       "      <td>PSOL</td>\n",
       "      <td>vereador</td>\n",
       "      <td>suplente</td>\n",
       "      <td>28.0</td>\n",
       "      <td>masculino</td>\n",
       "      <td>ensino medio completo</td>\n",
       "      <td>parda</td>\n",
       "    </tr>\n",
       "    <tr>\n",
       "      <th>4</th>\n",
       "      <td>2016</td>\n",
       "      <td>AP</td>\n",
       "      <td>1600303</td>\n",
       "      <td>00035814209</td>\n",
       "      <td>2850</td>\n",
       "      <td>REPUBLICANOS</td>\n",
       "      <td>vereador</td>\n",
       "      <td>suplente</td>\n",
       "      <td>28.0</td>\n",
       "      <td>feminino</td>\n",
       "      <td>ensino superior completo</td>\n",
       "      <td>branca</td>\n",
       "    </tr>\n",
       "    <tr>\n",
       "      <th>5</th>\n",
       "      <td>2016</td>\n",
       "      <td>AP</td>\n",
       "      <td>1600535</td>\n",
       "      <td>00038862204</td>\n",
       "      <td>3061</td>\n",
       "      <td>MDB</td>\n",
       "      <td>vereador</td>\n",
       "      <td>nao eleito</td>\n",
       "      <td>28.0</td>\n",
       "      <td>masculino</td>\n",
       "      <td>ensino superior completo</td>\n",
       "      <td>parda</td>\n",
       "    </tr>\n",
       "    <tr>\n",
       "      <th>6</th>\n",
       "      <td>2016</td>\n",
       "      <td>AP</td>\n",
       "      <td>1600055</td>\n",
       "      <td>00049124200</td>\n",
       "      <td>3830</td>\n",
       "      <td>PDT</td>\n",
       "      <td>vereador</td>\n",
       "      <td>eleito por qp</td>\n",
       "      <td>28.0</td>\n",
       "      <td>masculino</td>\n",
       "      <td>ensino medio completo</td>\n",
       "      <td>branca</td>\n",
       "    </tr>\n",
       "  </tbody>\n",
       "</table>\n",
       "</div>"
      ],
      "text/plain": [
       "    ano sigla_uf id_municipio          cpf id_candidato_bd sigla_partido  \\\n",
       "0  2016       AP      1600204  00004747208             309           PRP   \n",
       "2  2016       AP      1600303  00014428210            1051          PSOL   \n",
       "4  2016       AP      1600303  00035814209            2850  REPUBLICANOS   \n",
       "5  2016       AP      1600535  00038862204            3061           MDB   \n",
       "6  2016       AP      1600055  00049124200            3830           PDT   \n",
       "\n",
       "      cargo      resultado  idade     genero                      instrucao  \\\n",
       "0  vereador       suplente   40.0  masculino  ensino fundamental incompleto   \n",
       "2  vereador       suplente   28.0  masculino          ensino medio completo   \n",
       "4  vereador       suplente   28.0   feminino       ensino superior completo   \n",
       "5  vereador     nao eleito   28.0  masculino       ensino superior completo   \n",
       "6  vereador  eleito por qp   28.0  masculino          ensino medio completo   \n",
       "\n",
       "     raca  \n",
       "0  branca  \n",
       "2   parda  \n",
       "4  branca  \n",
       "5   parda  \n",
       "6  branca  "
      ]
     },
     "execution_count": 6,
     "metadata": {},
     "output_type": "execute_result"
    }
   ],
   "source": [
    "municipal = municipal.drop_duplicates()"
   ]
  }
 ],
 "metadata": {
  "interpreter": {
   "hash": "916dbcbb3f70747c44a77c7bcd40155683ae19c65e1c03b4aa3499c5328201f1"
  },
  "kernelspec": {
   "display_name": "Python 3.8.10 64-bit",
   "language": "python",
   "name": "python3"
  },
  "language_info": {
   "codemirror_mode": {
    "name": "ipython",
    "version": 3
   },
   "file_extension": ".py",
   "mimetype": "text/x-python",
   "name": "python",
   "nbconvert_exporter": "python",
   "pygments_lexer": "ipython3",
   "version": "3.8.10"
  },
  "orig_nbformat": 4
 },
 "nbformat": 4,
 "nbformat_minor": 2
}
