{
 "cells": [
  {
   "cell_type": "code",
   "execution_count": 1,
   "metadata": {},
   "outputs": [],
   "source": [
    "import basedosdados as bd\n",
    "import pandas as pd\n",
    "import geopandas as gpd\n",
    "import matplotlib.pyplot as plt\n",
    "import plotly.express as px"
   ]
  },
  {
   "cell_type": "markdown",
   "metadata": {},
   "source": [
    "## Importing the Dataset from Base dos Dados"
   ]
  },
  {
   "cell_type": "code",
   "execution_count": 18,
   "metadata": {},
   "outputs": [
    {
     "name": "stderr",
     "output_type": "stream",
     "text": [
      "Downloading: 100%|██████████| 967219/967219 [00:58<00:00, 16421.80rows/s]\n"
     ]
    }
   ],
   "source": [
    "query = \"\"\"\n",
    "SELECT id_municipio, sigla_uf, cargo, sigla_partido, resultado, votos, ano\n",
    "FROM basedosdados.br_tse_eleicoes.resultados_candidato\n",
    "WHERE ano in (2020, 2016)\n",
    "\"\"\"\n",
    "\n",
    "df = bd.read_sql(query,\n",
    "        billing_project_id=\"analise-eleitoral-330723\")"
   ]
  },
  {
   "cell_type": "code",
   "execution_count": 20,
   "metadata": {},
   "outputs": [
    {
     "data": {
      "text/html": [
       "<div>\n",
       "<style scoped>\n",
       "    .dataframe tbody tr th:only-of-type {\n",
       "        vertical-align: middle;\n",
       "    }\n",
       "\n",
       "    .dataframe tbody tr th {\n",
       "        vertical-align: top;\n",
       "    }\n",
       "\n",
       "    .dataframe thead th {\n",
       "        text-align: right;\n",
       "    }\n",
       "</style>\n",
       "<table border=\"1\" class=\"dataframe\">\n",
       "  <thead>\n",
       "    <tr style=\"text-align: right;\">\n",
       "      <th></th>\n",
       "      <th>id_municipio</th>\n",
       "      <th>sigla_uf</th>\n",
       "      <th>cargo</th>\n",
       "      <th>sigla_partido</th>\n",
       "      <th>resultado</th>\n",
       "      <th>votos</th>\n",
       "      <th>ano</th>\n",
       "    </tr>\n",
       "  </thead>\n",
       "  <tbody>\n",
       "    <tr>\n",
       "      <th>0</th>\n",
       "      <td>1200013</td>\n",
       "      <td>AC</td>\n",
       "      <td>prefeito</td>\n",
       "      <td>MDB</td>\n",
       "      <td>eleito</td>\n",
       "      <td>2638</td>\n",
       "      <td>2020</td>\n",
       "    </tr>\n",
       "    <tr>\n",
       "      <th>1</th>\n",
       "      <td>1200013</td>\n",
       "      <td>AC</td>\n",
       "      <td>prefeito</td>\n",
       "      <td>PDT</td>\n",
       "      <td>nao eleito</td>\n",
       "      <td>1237</td>\n",
       "      <td>2020</td>\n",
       "    </tr>\n",
       "    <tr>\n",
       "      <th>2</th>\n",
       "      <td>1200013</td>\n",
       "      <td>AC</td>\n",
       "      <td>prefeito</td>\n",
       "      <td>PP</td>\n",
       "      <td>nao eleito</td>\n",
       "      <td>2405</td>\n",
       "      <td>2020</td>\n",
       "    </tr>\n",
       "    <tr>\n",
       "      <th>3</th>\n",
       "      <td>1200013</td>\n",
       "      <td>AC</td>\n",
       "      <td>prefeito</td>\n",
       "      <td>PROS</td>\n",
       "      <td>nao eleito</td>\n",
       "      <td>569</td>\n",
       "      <td>2020</td>\n",
       "    </tr>\n",
       "    <tr>\n",
       "      <th>4</th>\n",
       "      <td>1200013</td>\n",
       "      <td>AC</td>\n",
       "      <td>vereador</td>\n",
       "      <td>DEM</td>\n",
       "      <td>nao eleito</td>\n",
       "      <td>119</td>\n",
       "      <td>2020</td>\n",
       "    </tr>\n",
       "    <tr>\n",
       "      <th>5</th>\n",
       "      <td>1200013</td>\n",
       "      <td>AC</td>\n",
       "      <td>vereador</td>\n",
       "      <td>DEM</td>\n",
       "      <td>nao eleito</td>\n",
       "      <td>3</td>\n",
       "      <td>2020</td>\n",
       "    </tr>\n",
       "    <tr>\n",
       "      <th>6</th>\n",
       "      <td>1200013</td>\n",
       "      <td>AC</td>\n",
       "      <td>vereador</td>\n",
       "      <td>MDB</td>\n",
       "      <td>suplente</td>\n",
       "      <td>200</td>\n",
       "      <td>2020</td>\n",
       "    </tr>\n",
       "    <tr>\n",
       "      <th>7</th>\n",
       "      <td>1200013</td>\n",
       "      <td>AC</td>\n",
       "      <td>vereador</td>\n",
       "      <td>MDB</td>\n",
       "      <td>suplente</td>\n",
       "      <td>97</td>\n",
       "      <td>2020</td>\n",
       "    </tr>\n",
       "    <tr>\n",
       "      <th>8</th>\n",
       "      <td>1200013</td>\n",
       "      <td>AC</td>\n",
       "      <td>vereador</td>\n",
       "      <td>MDB</td>\n",
       "      <td>suplente</td>\n",
       "      <td>14</td>\n",
       "      <td>2020</td>\n",
       "    </tr>\n",
       "    <tr>\n",
       "      <th>9</th>\n",
       "      <td>1200013</td>\n",
       "      <td>AC</td>\n",
       "      <td>vereador</td>\n",
       "      <td>MDB</td>\n",
       "      <td>suplente</td>\n",
       "      <td>0</td>\n",
       "      <td>2020</td>\n",
       "    </tr>\n",
       "  </tbody>\n",
       "</table>\n",
       "</div>"
      ],
      "text/plain": [
       "  id_municipio sigla_uf     cargo sigla_partido   resultado  votos   ano\n",
       "0      1200013       AC  prefeito           MDB      eleito   2638  2020\n",
       "1      1200013       AC  prefeito           PDT  nao eleito   1237  2020\n",
       "2      1200013       AC  prefeito            PP  nao eleito   2405  2020\n",
       "3      1200013       AC  prefeito          PROS  nao eleito    569  2020\n",
       "4      1200013       AC  vereador           DEM  nao eleito    119  2020\n",
       "5      1200013       AC  vereador           DEM  nao eleito      3  2020\n",
       "6      1200013       AC  vereador           MDB    suplente    200  2020\n",
       "7      1200013       AC  vereador           MDB    suplente     97  2020\n",
       "8      1200013       AC  vereador           MDB    suplente     14  2020\n",
       "9      1200013       AC  vereador           MDB    suplente      0  2020"
      ]
     },
     "execution_count": 20,
     "metadata": {},
     "output_type": "execute_result"
    }
   ],
   "source": [
    "df.head(10)"
   ]
  }
 ],
 "metadata": {
  "interpreter": {
   "hash": "916dbcbb3f70747c44a77c7bcd40155683ae19c65e1c03b4aa3499c5328201f1"
  },
  "kernelspec": {
   "display_name": "Python 3.8.10 64-bit",
   "language": "python",
   "name": "python3"
  },
  "language_info": {
   "codemirror_mode": {
    "name": "ipython",
    "version": 3
   },
   "file_extension": ".py",
   "mimetype": "text/x-python",
   "name": "python",
   "nbconvert_exporter": "python",
   "pygments_lexer": "ipython3",
   "version": "3.8.10"
  },
  "orig_nbformat": 4
 },
 "nbformat": 4,
 "nbformat_minor": 2
}
